{
 "cells": [
  {
   "cell_type": "code",
   "execution_count": 37,
   "metadata": {
    "ExecuteTime": {
     "end_time": "2022-07-20T03:24:49.166295Z",
     "start_time": "2022-07-20T03:24:49.160813Z"
    }
   },
   "outputs": [],
   "source": [
    "from collections import Counter\n",
    "\n",
    "def is_anagram():\n",
    "    print('Enter 2 words to check if they are anagrams.\\n')\n",
    "    str1, str2 = input('1st word: ').strip().lower(), input('2nd word: ').strip().lower()\n",
    "    return Counter(str1) == Counter(str2)"
   ]
  },
  {
   "cell_type": "code",
   "execution_count": 38,
   "metadata": {
    "ExecuteTime": {
     "end_time": "2022-07-20T03:24:54.915396Z",
     "start_time": "2022-07-20T03:24:50.137253Z"
    }
   },
   "outputs": [
    {
     "name": "stdout",
     "output_type": "stream",
     "text": [
      "Enter 2 words to check if they are anagrams.\n",
      "\n",
      "1st word: satan\n",
      "2nd word: Santa\n"
     ]
    },
    {
     "data": {
      "text/plain": [
       "True"
      ]
     },
     "execution_count": 38,
     "metadata": {},
     "output_type": "execute_result"
    }
   ],
   "source": [
    "is_anagram()"
   ]
  },
  {
   "cell_type": "code",
   "execution_count": 28,
   "metadata": {
    "ExecuteTime": {
     "end_time": "2022-07-20T03:21:23.311229Z",
     "start_time": "2022-07-20T03:21:23.302457Z"
    }
   },
   "outputs": [
    {
     "data": {
      "text/plain": [
       "(Counter({'S': 1, 'a': 2, 'n': 1, 't': 1}),\n",
       " Counter({'S': 1, 'a': 2, 'n': 1, 't': 1}))"
      ]
     },
     "execution_count": 28,
     "metadata": {},
     "output_type": "execute_result"
    }
   ],
   "source": [
    "Counter(sorted('Satan')), Counter(sorted('Santa'))"
   ]
  },
  {
   "cell_type": "code",
   "execution_count": null,
   "metadata": {},
   "outputs": [],
   "source": []
  }
 ],
 "metadata": {
  "kernelspec": {
   "display_name": "Python 3",
   "language": "python",
   "name": "python3"
  },
  "language_info": {
   "codemirror_mode": {
    "name": "ipython",
    "version": 3
   },
   "file_extension": ".py",
   "mimetype": "text/x-python",
   "name": "python",
   "nbconvert_exporter": "python",
   "pygments_lexer": "ipython3",
   "version": "3.8.5"
  }
 },
 "nbformat": 4,
 "nbformat_minor": 4
}
