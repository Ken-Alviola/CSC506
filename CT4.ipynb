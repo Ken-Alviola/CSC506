{
 "cells": [
  {
   "cell_type": "code",
   "execution_count": 57,
   "metadata": {
    "ExecuteTime": {
     "end_time": "2022-08-12T04:17:42.896879Z",
     "start_time": "2022-08-12T04:17:42.893297Z"
    }
   },
   "outputs": [],
   "source": [
    "from random_word import RandomWords\n",
    "stack = []"
   ]
  },
  {
   "cell_type": "code",
   "execution_count": 6,
   "metadata": {
    "ExecuteTime": {
     "end_time": "2022-08-12T03:58:43.260603Z",
     "start_time": "2022-08-12T03:58:43.250627Z"
    }
   },
   "outputs": [
    {
     "data": {
      "text/plain": [
       "<random_word.random_word.RandomWords at 0x7fb1382e5cd0>"
      ]
     },
     "execution_count": 6,
     "metadata": {},
     "output_type": "execute_result"
    }
   ],
   "source": [
    "r = RandomWords()\n"
   ]
  },
  {
   "cell_type": "code",
   "execution_count": 36,
   "metadata": {
    "ExecuteTime": {
     "end_time": "2022-08-12T04:10:09.699157Z",
     "start_time": "2022-08-12T04:10:06.197782Z"
    },
    "scrolled": true
   },
   "outputs": [],
   "source": [
    "random_wordlist = r.get_random_words() + r.get_random_words() + r.get_random_words() + r.get_random_words()"
   ]
  },
  {
   "cell_type": "code",
   "execution_count": 37,
   "metadata": {
    "ExecuteTime": {
     "end_time": "2022-08-12T04:10:11.260591Z",
     "start_time": "2022-08-12T04:10:11.250724Z"
    }
   },
   "outputs": [
    {
     "data": {
      "text/plain": [
       "200"
      ]
     },
     "execution_count": 37,
     "metadata": {},
     "output_type": "execute_result"
    }
   ],
   "source": [
    "len(random_wordlist)"
   ]
  },
  {
   "cell_type": "code",
   "execution_count": 18,
   "metadata": {
    "ExecuteTime": {
     "end_time": "2022-08-12T04:05:27.080967Z",
     "start_time": "2022-08-12T04:05:27.075544Z"
    }
   },
   "outputs": [],
   "source": [
    "import random"
   ]
  },
  {
   "cell_type": "code",
   "execution_count": 40,
   "metadata": {
    "ExecuteTime": {
     "end_time": "2022-08-12T04:10:26.421336Z",
     "start_time": "2022-08-12T04:10:26.414462Z"
    }
   },
   "outputs": [
    {
     "data": {
      "text/plain": [
       "'hired'"
      ]
     },
     "execution_count": 40,
     "metadata": {},
     "output_type": "execute_result"
    }
   ],
   "source": [
    "random.sample(random_wordlist,1)[0]"
   ]
  },
  {
   "cell_type": "code",
   "execution_count": 65,
   "metadata": {
    "ExecuteTime": {
     "end_time": "2022-08-12T04:19:55.055100Z",
     "start_time": "2022-08-12T04:19:55.049709Z"
    }
   },
   "outputs": [],
   "source": [
    "#prepends the list to form a stack\n",
    "while len(stack) < 200:\n",
    "    stack.insert(0,random.sample(random_wordlist,1)[0])\n",
    "    \n",
    "#pops top item\n",
    "while len(stack) > 0:\n",
    "    stack.pop()"
   ]
  },
  {
   "cell_type": "code",
   "execution_count": 63,
   "metadata": {
    "ExecuteTime": {
     "end_time": "2022-08-12T04:18:10.035213Z",
     "start_time": "2022-08-12T04:18:10.029191Z"
    }
   },
   "outputs": [
    {
     "data": {
      "text/plain": [
       "0"
      ]
     },
     "execution_count": 63,
     "metadata": {},
     "output_type": "execute_result"
    }
   ],
   "source": [
    "len(stack)"
   ]
  },
  {
   "cell_type": "code",
   "execution_count": 62,
   "metadata": {
    "ExecuteTime": {
     "end_time": "2022-08-12T04:18:07.372723Z",
     "start_time": "2022-08-12T04:18:07.364179Z"
    }
   },
   "outputs": [
    {
     "data": {
      "text/plain": [
       "[]"
      ]
     },
     "execution_count": 62,
     "metadata": {},
     "output_type": "execute_result"
    }
   ],
   "source": [
    "stack"
   ]
  },
  {
   "cell_type": "code",
   "execution_count": 67,
   "metadata": {
    "ExecuteTime": {
     "end_time": "2022-08-12T04:21:01.866661Z",
     "start_time": "2022-08-12T04:21:01.857627Z"
    }
   },
   "outputs": [],
   "source": [
    "#prepends list then pops for 200 iterations\n",
    "count = 0\n",
    "while count < 200:\n",
    "    stack.insert(0,random.sample(random_wordlist,1)[0])\n",
    "    stack.pop()\n",
    "    count += 1"
   ]
  },
  {
   "cell_type": "code",
   "execution_count": null,
   "metadata": {},
   "outputs": [],
   "source": []
  }
 ],
 "metadata": {
  "kernelspec": {
   "display_name": "Python 3",
   "language": "python",
   "name": "python3"
  },
  "language_info": {
   "codemirror_mode": {
    "name": "ipython",
    "version": 3
   },
   "file_extension": ".py",
   "mimetype": "text/x-python",
   "name": "python",
   "nbconvert_exporter": "python",
   "pygments_lexer": "ipython3",
   "version": "3.8.5"
  }
 },
 "nbformat": 4,
 "nbformat_minor": 4
}
