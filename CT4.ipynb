{
 "cells": [
  {
   "cell_type": "code",
   "execution_count": 57,
   "metadata": {
    "ExecuteTime": {
     "end_time": "2022-08-12T04:17:42.896879Z",
     "start_time": "2022-08-12T04:17:42.893297Z"
    }
   },
   "outputs": [],
   "source": [
    "from random_word import RandomWords\n",
    "stack = []"
   ]
  },
  {
   "cell_type": "code",
   "execution_count": 6,
   "metadata": {
    "ExecuteTime": {
     "end_time": "2022-08-12T03:58:43.260603Z",
     "start_time": "2022-08-12T03:58:43.250627Z"
    }
   },
   "outputs": [
    {
     "data": {
      "text/plain": [
       "<random_word.random_word.RandomWords at 0x7fb1382e5cd0>"
      ]
     },
     "execution_count": 6,
     "metadata": {},
     "output_type": "execute_result"
    }
   ],
   "source": [
    "r = RandomWords()\n"
   ]
  },
  {
   "cell_type": "code",
   "execution_count": 36,
   "metadata": {
    "ExecuteTime": {
     "end_time": "2022-08-12T04:10:09.699157Z",
     "start_time": "2022-08-12T04:10:06.197782Z"
    },
    "scrolled": true
   },
   "outputs": [],
   "source": [
    "random_wordlist = r.get_random_words() + r.get_random_words() + r.get_random_words() + r.get_random_words()"
   ]
  },
  {
   "cell_type": "code",
   "execution_count": 102,
   "metadata": {
    "ExecuteTime": {
     "end_time": "2022-08-13T07:50:34.132905Z",
     "start_time": "2022-08-13T07:50:30.292398Z"
    }
   },
   "outputs": [],
   "source": [
    "random_wordlist2 = r.get_random_words() + r.get_random_words() + r.get_random_words() + r.get_random_words()"
   ]
  },
  {
   "cell_type": "code",
   "execution_count": 103,
   "metadata": {
    "ExecuteTime": {
     "end_time": "2022-08-13T07:50:48.972983Z",
     "start_time": "2022-08-13T07:50:48.968563Z"
    }
   },
   "outputs": [],
   "source": [
    "random_wordlist = random_wordlist + random_wordlist2"
   ]
  },
  {
   "cell_type": "code",
   "execution_count": 155,
   "metadata": {
    "ExecuteTime": {
     "end_time": "2022-08-13T08:11:36.434948Z",
     "start_time": "2022-08-13T08:04:03.966114Z"
    },
    "scrolled": true
   },
   "outputs": [
    {
     "name": "stdout",
     "output_type": "stream",
     "text": [
      "10\n",
      "20\n",
      "30\n",
      "40\n",
      "50\n",
      "60\n",
      "70\n",
      "80\n",
      "90\n",
      "100\n",
      "110\n",
      "120\n",
      "130\n",
      "140\n",
      "150\n",
      "160\n",
      "170\n",
      "180\n",
      "190\n",
      "200\n",
      "210\n",
      "220\n",
      "230\n",
      "240\n",
      "250\n",
      "260\n",
      "270\n",
      "280\n",
      "290\n",
      "300\n",
      "310\n",
      "320\n",
      "330\n",
      "340\n",
      "350\n",
      "360\n",
      "370\n",
      "380\n",
      "390\n",
      "400\n",
      "410\n",
      "420\n",
      "430\n",
      "440\n",
      "450\n",
      "460\n",
      "470\n",
      "480\n",
      "490\n",
      "500\n"
     ]
    }
   ],
   "source": [
    "count = 0\n",
    "random_wordlist = []\n",
    "while count < 500:\n",
    "    random_wordlist += r.get_random_words()\n",
    "    count += 1\n",
    "    if count % 10 == 0:\n",
    "        print(count)"
   ]
  },
  {
   "cell_type": "code",
   "execution_count": 198,
   "metadata": {
    "ExecuteTime": {
     "end_time": "2022-08-14T06:18:57.283689Z",
     "start_time": "2022-08-14T06:18:57.258331Z"
    }
   },
   "outputs": [
    {
     "data": {
      "text/plain": [
       "25000"
      ]
     },
     "execution_count": 198,
     "metadata": {},
     "output_type": "execute_result"
    }
   ],
   "source": [
    "len(random_wordlist)"
   ]
  },
  {
   "cell_type": "code",
   "execution_count": 18,
   "metadata": {
    "ExecuteTime": {
     "end_time": "2022-08-12T04:05:27.080967Z",
     "start_time": "2022-08-12T04:05:27.075544Z"
    }
   },
   "outputs": [],
   "source": [
    "import random"
   ]
  },
  {
   "cell_type": "code",
   "execution_count": 105,
   "metadata": {
    "ExecuteTime": {
     "end_time": "2022-08-13T07:50:56.160933Z",
     "start_time": "2022-08-13T07:50:56.153989Z"
    }
   },
   "outputs": [
    {
     "data": {
      "text/plain": [
       "'sale-room'"
      ]
     },
     "execution_count": 105,
     "metadata": {},
     "output_type": "execute_result"
    }
   ],
   "source": [
    "random.sample(random_wordlist,1)[0]"
   ]
  },
  {
   "cell_type": "code",
   "execution_count": 106,
   "metadata": {
    "ExecuteTime": {
     "end_time": "2022-08-13T07:51:01.944210Z",
     "start_time": "2022-08-13T07:51:01.937678Z"
    }
   },
   "outputs": [],
   "source": [
    "#prepends the list to form a stack\n",
    "while len(stack) < 200:\n",
    "    stack.insert(0,random.sample(random_wordlist,1)[0])\n",
    "    \n",
    "#pops top item\n",
    "while len(stack) > 0:\n",
    "    stack.pop()"
   ]
  },
  {
   "cell_type": "code",
   "execution_count": 63,
   "metadata": {
    "ExecuteTime": {
     "end_time": "2022-08-12T04:18:10.035213Z",
     "start_time": "2022-08-12T04:18:10.029191Z"
    }
   },
   "outputs": [
    {
     "data": {
      "text/plain": [
       "0"
      ]
     },
     "execution_count": 63,
     "metadata": {},
     "output_type": "execute_result"
    }
   ],
   "source": [
    "len(stack)"
   ]
  },
  {
   "cell_type": "code",
   "execution_count": 62,
   "metadata": {
    "ExecuteTime": {
     "end_time": "2022-08-12T04:18:07.372723Z",
     "start_time": "2022-08-12T04:18:07.364179Z"
    }
   },
   "outputs": [
    {
     "data": {
      "text/plain": [
       "[]"
      ]
     },
     "execution_count": 62,
     "metadata": {},
     "output_type": "execute_result"
    }
   ],
   "source": [
    "stack"
   ]
  },
  {
   "cell_type": "code",
   "execution_count": 111,
   "metadata": {
    "ExecuteTime": {
     "end_time": "2022-08-13T07:51:30.987188Z",
     "start_time": "2022-08-13T07:51:30.979683Z"
    }
   },
   "outputs": [],
   "source": [
    "#prepends list then pops for 200 iterations\n",
    "count = 0\n",
    "while count < 200:\n",
    "    stack.insert(0,random.sample(random_wordlist,1)[0])\n",
    "    stack.pop()\n",
    "    count += 1"
   ]
  },
  {
   "cell_type": "code",
   "execution_count": 203,
   "metadata": {
    "ExecuteTime": {
     "end_time": "2022-08-14T06:20:28.752133Z",
     "start_time": "2022-08-14T06:20:28.472193Z"
    }
   },
   "outputs": [],
   "source": [
    "#prepends the list to form a stack\n",
    "while len(stack) < 25000:\n",
    "    stack.insert(0,random.sample(random_wordlist,1)[0])\n",
    "    \n",
    "#pops top item\n",
    "while len(stack) > 0:\n",
    "    stack.pop()\n",
    "\n",
    "count = 0\n",
    "while count < 25000:\n",
    "    stack.insert(0,random.sample(random_wordlist,1)[0])\n",
    "    stack.pop()\n",
    "    count += 1"
   ]
  },
  {
   "cell_type": "code",
   "execution_count": 159,
   "metadata": {
    "ExecuteTime": {
     "end_time": "2022-08-13T08:28:11.423537Z",
     "start_time": "2022-08-13T08:28:11.419082Z"
    }
   },
   "outputs": [],
   "source": [
    "queue = []"
   ]
  },
  {
   "cell_type": "code",
   "execution_count": 69,
   "metadata": {
    "ExecuteTime": {
     "end_time": "2022-08-12T05:55:29.160063Z",
     "start_time": "2022-08-12T05:55:29.151137Z"
    }
   },
   "outputs": [],
   "source": [
    "#appends the list to form a queue\n",
    "while len(queue) < 200:\n",
    "    queue.append(random.sample(random_wordlist,1)[0])\n",
    "    \n",
    "#dequeues item from front of queue\n",
    "while len(queue) > 0:\n",
    "    queue.pop()"
   ]
  },
  {
   "cell_type": "code",
   "execution_count": 91,
   "metadata": {
    "ExecuteTime": {
     "end_time": "2022-08-13T07:48:52.944630Z",
     "start_time": "2022-08-13T07:48:52.939395Z"
    }
   },
   "outputs": [],
   "source": [
    "#appends list then pops for 200 iterations\n",
    "count = 0\n",
    "while count < 200:\n",
    "    queue.insert(0,random.sample(random_wordlist,1)[0])\n",
    "    queue.pop()\n",
    "    count += 1"
   ]
  },
  {
   "cell_type": "code",
   "execution_count": 208,
   "metadata": {
    "ExecuteTime": {
     "end_time": "2022-08-14T06:23:05.591182Z",
     "start_time": "2022-08-14T06:23:05.405263Z"
    }
   },
   "outputs": [],
   "source": [
    "#appends the list to form a queue\n",
    "while len(queue) < 25000:\n",
    "    queue.append(random.sample(random_wordlist,1)[0])\n",
    "    \n",
    "#dequeues item from front of queue\n",
    "while len(queue) > 0:\n",
    "    queue.pop()\n",
    "#appends list then pops for 200 iterations\n",
    "count = 0\n",
    "while count < 25000:\n",
    "    queue.insert(0,random.sample(random_wordlist,1)[0])\n",
    "    queue.pop()\n",
    "    count += 1"
   ]
  },
  {
   "cell_type": "code",
   "execution_count": 71,
   "metadata": {
    "ExecuteTime": {
     "end_time": "2022-08-12T06:15:36.512632Z",
     "start_time": "2022-08-12T06:15:36.500865Z"
    }
   },
   "outputs": [],
   "source": [
    "'''Python supports automatic garbage collection so deallocation of memory\n",
    "is done implicitly. However to force it to deallocate each node after use,\n",
    "add the following code:\n",
    "\n",
    "\timport gc\t\t #added at the start of program\n",
    "\tgc.collect()\t #to be added wherever memory is to be deallocated\n",
    "'''\n",
    "\n",
    "\n",
    "class Node:\n",
    "\n",
    "    # Class to create nodes of linked list\n",
    "    # constructor initializes node automatically\n",
    "    def __init__(self, data):\n",
    "        self.data = data\n",
    "        self.next = None\n",
    "\n",
    "\n",
    "class Stack:\n",
    "\n",
    "    # head is default NULL\n",
    "    def __init__(self):\n",
    "        self.head = None\n",
    "\n",
    "    # Checks if stack is empty\n",
    "    def isempty(self):\n",
    "        if self.head == None:\n",
    "            return True\n",
    "        else:\n",
    "            return False\n",
    "\n",
    "    # Method to add data to the stack\n",
    "    # adds to the start of the stack\n",
    "    def push(self, data):\n",
    "\n",
    "        if self.head == None:\n",
    "            self.head = Node(data)\n",
    "\n",
    "        else:\n",
    "            newnode = Node(data)\n",
    "            newnode.next = self.head\n",
    "            self.head = newnode\n",
    "\n",
    "    # Remove element that is the current head (start of the stack)\n",
    "    def pop(self):\n",
    "\n",
    "        if self.isempty():\n",
    "            return None\n",
    "\n",
    "        else:\n",
    "            # Removes the head node and makes\n",
    "            # the preceding one the new head\n",
    "            poppednode = self.head\n",
    "            self.head = self.head.next\n",
    "            poppednode.next = None\n",
    "            return poppednode.data\n",
    "\n",
    "    # Returns the head node data\n",
    "    def peek(self):\n",
    "\n",
    "        if self.isempty():\n",
    "            return None\n",
    "\n",
    "        else:\n",
    "            return self.head.data\n",
    "\n",
    "    # Prints out the stack\n",
    "    def display(self):\n",
    "\n",
    "        iternode = self.head\n",
    "        if self.isempty():\n",
    "            print(\"Stack Underflow\")\n",
    "\n",
    "        else:\n",
    "\n",
    "            while(iternode != None):\n",
    "\n",
    "                print(iternode.data, \"->\", end=\" \")\n",
    "                iternode = iternode.next\n",
    "            return"
   ]
  },
  {
   "cell_type": "code",
   "execution_count": 72,
   "metadata": {
    "ExecuteTime": {
     "end_time": "2022-08-12T06:15:42.194824Z",
     "start_time": "2022-08-12T06:15:42.187006Z"
    }
   },
   "outputs": [
    {
     "name": "stdout",
     "output_type": "stream",
     "text": [
      "44 -> 33 -> 22 -> 11 -> \n",
      "Top element is  44\n",
      "22 -> 11 -> \n",
      "Top element is  22\n"
     ]
    }
   ],
   "source": [
    "\t\t\n",
    "# Driver code\n",
    "MyStack = Stack()\n",
    "\n",
    "MyStack.push(11)\n",
    "MyStack.push(22)\n",
    "MyStack.push(33)\n",
    "MyStack.push(44)\n",
    "\n",
    "# Display stack elements\n",
    "MyStack.display()\n",
    "\n",
    "# Print top element of stack\n",
    "print(\"\\nTop element is \",MyStack.peek())\n",
    "\n",
    "# Delete top elements of stack\n",
    "MyStack.pop()\n",
    "MyStack.pop()\n",
    "\n",
    "# Display stack elements\n",
    "MyStack.display()\n",
    "\n",
    "# Print top element of stack\n",
    "print(\"\\nTop element is \", MyStack.peek())\n",
    "\n",
    "# This code is contributed by Mathew George"
   ]
  },
  {
   "cell_type": "code",
   "execution_count": 168,
   "metadata": {
    "ExecuteTime": {
     "end_time": "2022-08-13T08:29:15.035311Z",
     "start_time": "2022-08-13T08:29:15.024161Z"
    }
   },
   "outputs": [],
   "source": [
    "LL_stack = Stack()"
   ]
  },
  {
   "cell_type": "code",
   "execution_count": 169,
   "metadata": {
    "ExecuteTime": {
     "end_time": "2022-08-13T08:30:02.223325Z",
     "start_time": "2022-08-13T08:30:02.219209Z"
    }
   },
   "outputs": [],
   "source": [
    "\n",
    "LL_stack.push(random.sample(random_wordlist,1)[0])"
   ]
  },
  {
   "cell_type": "code",
   "execution_count": 213,
   "metadata": {
    "ExecuteTime": {
     "end_time": "2022-08-14T06:24:26.685344Z",
     "start_time": "2022-08-14T06:24:26.358602Z"
    }
   },
   "outputs": [],
   "source": [
    "count = 0\n",
    "while count < 25000:\n",
    "    LL_stack.push(random.sample(random_wordlist,1)[0])\n",
    "    count += 1\n",
    "\n",
    "while LL_stack.isempty() != True:\n",
    "    LL_stack.pop()\n",
    "    \n",
    "count = 0\n",
    "while count < 25000:\n",
    "    LL_stack.push(random.sample(random_wordlist,1)[0])\n",
    "    LL_stack.pop()\n",
    "    count += 1"
   ]
  },
  {
   "cell_type": "code",
   "execution_count": 184,
   "metadata": {
    "ExecuteTime": {
     "end_time": "2022-08-13T08:35:41.052910Z",
     "start_time": "2022-08-13T08:35:41.045097Z"
    },
    "scrolled": true
   },
   "outputs": [
    {
     "name": "stdout",
     "output_type": "stream",
     "text": [
      "Stack Underflow\n"
     ]
    }
   ],
   "source": [
    "LL_stack.display()"
   ]
  },
  {
   "cell_type": "code",
   "execution_count": 73,
   "metadata": {
    "ExecuteTime": {
     "end_time": "2022-08-12T06:16:33.840519Z",
     "start_time": "2022-08-12T06:16:33.832320Z"
    }
   },
   "outputs": [],
   "source": [
    "# Python3 program to demonstrate linked list\n",
    "# based implementation of queue\n",
    "\n",
    "# A linked list (LL) node\n",
    "# to store a queue entry\n",
    "class Node:\n",
    "\n",
    "    def __init__(self, data):\n",
    "        self.data = data\n",
    "        self.next = None\n",
    "\n",
    "# A class to represent a queue\n",
    "\n",
    "# The queue, front stores the front node\n",
    "# of LL and rear stores the last node of LL\n",
    "\n",
    "\n",
    "class Queue:\n",
    "\n",
    "    def __init__(self):\n",
    "        self.front = self.rear = None\n",
    "\n",
    "    def isEmpty(self):\n",
    "        return self.front == None\n",
    "\n",
    "    # Method to add an item to the queue\n",
    "    def EnQueue(self, item):\n",
    "        temp = Node(item)\n",
    "\n",
    "        if self.rear == None:\n",
    "            self.front = self.rear = temp\n",
    "            return\n",
    "        self.rear.next = temp\n",
    "        self.rear = temp\n",
    "\n",
    "    # Method to remove an item from queue\n",
    "    def DeQueue(self):\n",
    "\n",
    "        if self.isEmpty():\n",
    "            return\n",
    "        temp = self.front\n",
    "        self.front = temp.next\n",
    "\n",
    "        if(self.front == None):\n",
    "            self.rear = None"
   ]
  },
  {
   "cell_type": "code",
   "execution_count": 74,
   "metadata": {
    "ExecuteTime": {
     "end_time": "2022-08-12T06:16:36.254059Z",
     "start_time": "2022-08-12T06:16:36.246867Z"
    }
   },
   "outputs": [
    {
     "name": "stdout",
     "output_type": "stream",
     "text": [
      "Queue Front 40\n",
      "Queue Rear 50\n"
     ]
    }
   ],
   "source": [
    "# Driver Code\n",
    "if __name__== '__main__':\n",
    "\tq = Queue()\n",
    "\tq.EnQueue(10)\n",
    "\tq.EnQueue(20)\n",
    "\tq.DeQueue()\n",
    "\tq.DeQueue()\n",
    "\tq.EnQueue(30)\n",
    "\tq.EnQueue(40)\n",
    "\tq.EnQueue(50)\n",
    "\tq.DeQueue()\n",
    "\tprint(\"Queue Front \" + str(q.front.data))\n",
    "\tprint(\"Queue Rear \" + str(q.rear.data))\n",
    "\t"
   ]
  },
  {
   "cell_type": "code",
   "execution_count": 185,
   "metadata": {
    "ExecuteTime": {
     "end_time": "2022-08-13T08:36:37.465164Z",
     "start_time": "2022-08-13T08:36:37.458171Z"
    }
   },
   "outputs": [],
   "source": [
    "LL_queue = Queue()"
   ]
  },
  {
   "cell_type": "code",
   "execution_count": 218,
   "metadata": {
    "ExecuteTime": {
     "end_time": "2022-08-14T06:25:28.920019Z",
     "start_time": "2022-08-14T06:25:28.707232Z"
    }
   },
   "outputs": [],
   "source": [
    "count = 0\n",
    "while count < 25000:\n",
    "    LL_queue.EnQueue(random.sample(random_wordlist,1)[0])\n",
    "    count += 1\n",
    "\n",
    "while LL_stack.isempty() != True:\n",
    "    LL_queue.DeQueue()\n",
    "    \n",
    "count = 0\n",
    "while count < 25000:\n",
    "    LL_queue.EnQueue(random.sample(random_wordlist,1)[0])\n",
    "    LL_queue.DeQueue()\n",
    "    count += 1"
   ]
  },
  {
   "cell_type": "code",
   "execution_count": null,
   "metadata": {},
   "outputs": [],
   "source": []
  },
  {
   "cell_type": "code",
   "execution_count": null,
   "metadata": {},
   "outputs": [],
   "source": []
  }
 ],
 "metadata": {
  "kernelspec": {
   "display_name": "Python 3",
   "language": "python",
   "name": "python3"
  },
  "language_info": {
   "codemirror_mode": {
    "name": "ipython",
    "version": 3
   },
   "file_extension": ".py",
   "mimetype": "text/x-python",
   "name": "python",
   "nbconvert_exporter": "python",
   "pygments_lexer": "ipython3",
   "version": "3.8.5"
  }
 },
 "nbformat": 4,
 "nbformat_minor": 4
}
