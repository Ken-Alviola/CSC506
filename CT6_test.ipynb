{
 "cells": [
  {
   "cell_type": "code",
   "execution_count": 1,
   "metadata": {
    "ExecuteTime": {
     "end_time": "2022-08-25T05:09:53.262043Z",
     "start_time": "2022-08-25T05:09:53.257790Z"
    }
   },
   "outputs": [],
   "source": [
    "import CT6_option1 as BST"
   ]
  },
  {
   "cell_type": "code",
   "execution_count": 19,
   "metadata": {
    "ExecuteTime": {
     "end_time": "2022-08-25T05:18:51.068506Z",
     "start_time": "2022-08-25T05:18:51.063947Z"
    }
   },
   "outputs": [],
   "source": [
    "tree, ordered_list = BST.initialize_tree([5, 3, 7, 2, 4, 9, 10])"
   ]
  },
  {
   "cell_type": "code",
   "execution_count": 20,
   "metadata": {
    "ExecuteTime": {
     "end_time": "2022-08-25T05:18:51.517480Z",
     "start_time": "2022-08-25T05:18:51.511621Z"
    }
   },
   "outputs": [
    {
     "name": "stdout",
     "output_type": "stream",
     "text": [
      "  _5_   \n",
      " /   \\  \n",
      " 3   9_ \n",
      "/ \\ /  \\\n",
      "2 4 7 10\n"
     ]
    }
   ],
   "source": [
    "tree.build_tree(ordered_list)\n",
    "tree.print_tree(tree.bstGetRoot())"
   ]
  },
  {
   "cell_type": "code",
   "execution_count": 21,
   "metadata": {
    "ExecuteTime": {
     "end_time": "2022-08-25T05:18:52.942843Z",
     "start_time": "2022-08-25T05:18:52.936382Z"
    }
   },
   "outputs": [
    {
     "name": "stdout",
     "output_type": "stream",
     "text": [
      "   _5___     \n",
      "  /     \\    \n",
      "  3    _9_   \n",
      " / \\  /   \\  \n",
      " 2 4  7  10_ \n",
      "/    / \\    \\\n",
      "1    6 8   11\n"
     ]
    }
   ],
   "source": [
    "tree.insert(BST.Node(8))\n",
    "tree.insert(BST.Node(1))\n",
    "tree.insert(BST.Node(11))\n",
    "tree.insert(BST.Node(6))\n",
    "tree.print_tree(tree.bstGetRoot())"
   ]
  },
  {
   "cell_type": "code",
   "execution_count": 22,
   "metadata": {
    "ExecuteTime": {
     "end_time": "2022-08-25T05:18:55.997521Z",
     "start_time": "2022-08-25T05:18:55.989407Z"
    }
   },
   "outputs": [
    {
     "name": "stdout",
     "output_type": "stream",
     "text": [
      "  _5__     \n",
      " /    \\    \n",
      " 3    9_   \n",
      "/ \\  /  \\  \n",
      "1 4  8 10_ \n",
      "    /     \\\n",
      "    6    11\n"
     ]
    }
   ],
   "source": [
    "tree.delete(tree.search(7))\n",
    "tree.delete(tree.search(2))\n",
    "tree.print_tree(tree.bstGetRoot())"
   ]
  },
  {
   "cell_type": "code",
   "execution_count": null,
   "metadata": {},
   "outputs": [],
   "source": []
  }
 ],
 "metadata": {
  "kernelspec": {
   "display_name": "Python 3",
   "language": "python",
   "name": "python3"
  },
  "language_info": {
   "codemirror_mode": {
    "name": "ipython",
    "version": 3
   },
   "file_extension": ".py",
   "mimetype": "text/x-python",
   "name": "python",
   "nbconvert_exporter": "python",
   "pygments_lexer": "ipython3",
   "version": "3.8.5"
  }
 },
 "nbformat": 4,
 "nbformat_minor": 4
}
