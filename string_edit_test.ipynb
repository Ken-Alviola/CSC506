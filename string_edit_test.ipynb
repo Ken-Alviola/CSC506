{
 "cells": [
  {
   "cell_type": "code",
   "execution_count": 1,
   "metadata": {
    "ExecuteTime": {
     "end_time": "2022-07-29T05:59:58.839828Z",
     "start_time": "2022-07-29T05:59:58.832826Z"
    }
   },
   "outputs": [],
   "source": [
    "from string_edit_distance import run_string_edit"
   ]
  },
  {
   "cell_type": "code",
   "execution_count": 2,
   "metadata": {
    "ExecuteTime": {
     "end_time": "2022-07-29T06:00:08.811268Z",
     "start_time": "2022-07-29T05:59:58.844247Z"
    }
   },
   "outputs": [
    {
     "name": "stdout",
     "output_type": "stream",
     "text": [
      "Enter the original word: Algorithm\n",
      "Enter the word to edit into:  Alligator\n",
      "\n",
      "algorithm --> alligator\n",
      "Original and new words are both: 9 characters\n",
      "7 characters copied: ['a', 'g', 'i', 'l', 'o', 'r', 't']\n",
      "2 characters deleted and inserted: ['h', 'm'] --> ['a', 'l']\n",
      "\n",
      "Total Edit Cost: 115 points\n"
     ]
    }
   ],
   "source": [
    "run_string_edit()"
   ]
  },
  {
   "cell_type": "code",
   "execution_count": 11,
   "metadata": {
    "ExecuteTime": {
     "end_time": "2022-07-29T06:07:11.460556Z",
     "start_time": "2022-07-29T06:07:06.328897Z"
    }
   },
   "outputs": [
    {
     "name": "stdout",
     "output_type": "stream",
     "text": [
      "Enter the original word: Runtime\n",
      "Enter the word to edit into:  Error\n",
      "\n",
      "runtime --> error\n",
      "runtime: 7 characters, error: 5 characters\n",
      "2 characters copied: ['e', 'r']\n",
      "5 characters deleted and/or inserted: ['i', 'm', 'n', 't', 'u'] --> ['o', 'r', 'r']\n",
      "\n",
      "Total Edit Cost: 170 points\n"
     ]
    }
   ],
   "source": [
    "run_string_edit()"
   ]
  },
  {
   "cell_type": "code",
   "execution_count": 12,
   "metadata": {
    "ExecuteTime": {
     "end_time": "2022-07-29T06:08:14.125273Z",
     "start_time": "2022-07-29T06:07:59.986215Z"
    }
   },
   "outputs": [
    {
     "name": "stdout",
     "output_type": "stream",
     "text": [
      "Enter the original word: Raven\n",
      "Enter the word to edit into:  Nevermore\n",
      "\n",
      "raven --> nevermore\n",
      "raven: 5 characters, nevermore: 9 characters\n",
      "4 characters copied: ['e', 'n', 'r', 'v']\n",
      "5 characters deleted and/or inserted: ['a'] --> ['e', 'e', 'm', 'o', 'r']\n",
      "\n",
      "Total Edit Cost: 140 points\n"
     ]
    }
   ],
   "source": [
    "run_string_edit()"
   ]
  },
  {
   "cell_type": "code",
   "execution_count": null,
   "metadata": {},
   "outputs": [],
   "source": []
  }
 ],
 "metadata": {
  "kernelspec": {
   "display_name": "Python 3",
   "language": "python",
   "name": "python3"
  },
  "language_info": {
   "codemirror_mode": {
    "name": "ipython",
    "version": 3
   },
   "file_extension": ".py",
   "mimetype": "text/x-python",
   "name": "python",
   "nbconvert_exporter": "python",
   "pygments_lexer": "ipython3",
   "version": "3.8.5"
  }
 },
 "nbformat": 4,
 "nbformat_minor": 4
}
