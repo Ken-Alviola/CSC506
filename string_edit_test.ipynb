{
 "cells": [
  {
   "cell_type": "code",
   "execution_count": 1,
   "metadata": {
    "ExecuteTime": {
     "end_time": "2022-07-29T05:59:58.839828Z",
     "start_time": "2022-07-29T05:59:58.832826Z"
    }
   },
   "outputs": [],
   "source": [
    "from string_edit_distance import run_string_edit"
   ]
  },
  {
   "cell_type": "code",
   "execution_count": 2,
   "metadata": {
    "ExecuteTime": {
     "end_time": "2022-07-29T06:00:08.811268Z",
     "start_time": "2022-07-29T05:59:58.844247Z"
    }
   },
   "outputs": [
    {
     "name": "stdout",
     "output_type": "stream",
     "text": [
      "Enter the original word: Algorithm\n",
      "Enter the word to edit into:  Alligator\n",
      "\n",
      "algorithm --> alligator\n",
      "Original and new words are both: 9 characters\n",
      "7 characters copied: ['a', 'g', 'i', 'l', 'o', 'r', 't']\n",
      "2 characters deleted and inserted: ['h', 'm'] --> ['a', 'l']\n",
      "\n",
      "Total Edit Cost: 115 points\n"
     ]
    }
   ],
   "source": [
    "run_string_edit()"
   ]
  },
  {
   "cell_type": "code",
   "execution_count": null,
   "metadata": {
    "ExecuteTime": {
     "start_time": "2022-07-29T06:01:31.455Z"
    }
   },
   "outputs": [],
   "source": [
    "run_string_edit()"
   ]
  },
  {
   "cell_type": "code",
   "execution_count": null,
   "metadata": {},
   "outputs": [],
   "source": []
  }
 ],
 "metadata": {
  "kernelspec": {
   "display_name": "Python 3",
   "language": "python",
   "name": "python3"
  },
  "language_info": {
   "codemirror_mode": {
    "name": "ipython",
    "version": 3
   },
   "file_extension": ".py",
   "mimetype": "text/x-python",
   "name": "python",
   "nbconvert_exporter": "python",
   "pygments_lexer": "ipython3",
   "version": "3.8.5"
  }
 },
 "nbformat": 4,
 "nbformat_minor": 4
}
