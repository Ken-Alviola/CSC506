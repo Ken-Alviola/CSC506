{
 "cells": [
  {
   "cell_type": "code",
   "execution_count": 3,
   "metadata": {
    "ExecuteTime": {
     "end_time": "2022-08-18T05:23:15.928344Z",
     "start_time": "2022-08-18T05:23:15.924596Z"
    }
   },
   "outputs": [],
   "source": [
    "from linearprobinghashtable import LinearProbingHashTable"
   ]
  },
  {
   "cell_type": "code",
   "execution_count": 8,
   "metadata": {
    "ExecuteTime": {
     "end_time": "2022-08-18T05:32:18.641297Z",
     "start_time": "2022-08-18T05:32:18.629501Z"
    }
   },
   "outputs": [
    {
     "name": "stdout",
     "output_type": "stream",
     "text": [
      "Linear Probing: initial table:\n",
      "   --------\n",
      " 0:|  0   |\n",
      " 1:| 220  |\n",
      " 2:|  22  |\n",
      " 3:| 110  |\n",
      " 4:|  94  |\n",
      " 5:|  35  |\n",
      " 6:|  4   |\n",
      " 7:| E/S  |\n",
      " 8:| E/S  |\n",
      " 9:| E/S  |\n",
      "   --------\n",
      "\n",
      "=======================================\n",
      "Linear Probing: after removing 0:\n",
      "   --------\n",
      " 0:|  0   |\n",
      " 1:| 220  |\n",
      " 2:|  22  |\n",
      " 3:| 110  |\n",
      " 4:|  94  |\n",
      " 5:|  35  |\n",
      " 6:|  4   |\n",
      " 7:|  35  |\n",
      " 8:|  0   |\n",
      " 9:|  22  |\n",
      "   --------\n",
      "\n"
     ]
    }
   ],
   "source": [
    "# Main program to test HashTable classes\n",
    "keys = [ 35, 0, 22, 94, 220, 110, 4 ]\n",
    "#chaining = ChainingHashTable()\n",
    "linear_probing = LinearProbingHashTable()\n",
    "#double_hashing = DoubleHashingHashTable()\n",
    "for key in keys:\n",
    "   #chaining.insert(key)\n",
    "   linear_probing.insert(key)\n",
    "   #double_hashing.insert(key)\n",
    "\n",
    "# Show tables after inserts.\n",
    "#print (\"Chaining: initial table:\")\n",
    "#print (chaining)\n",
    "#print()\n",
    "\n",
    "print (\"Linear Probing: initial table:\")\n",
    "print (linear_probing)\n",
    "print()\n",
    "\n",
    "#print (\"Double Hashing: initial table:\")\n",
    "#print (double_hashing)\n",
    "#print()\n",
    "\n",
    "# Show tables after removing item 0\n",
    "print (\"=======================================\")\n",
    "#chaining.remove(0)\n",
    "#linear_probing.remove(0)\n",
    "for key in keys:\n",
    "   #chaining.insert(key)\n",
    "   linear_probing.insert(key)\n",
    "#double_hashing.remove(0)\n",
    "\n",
    "#print (\"Chaining: after removing 0:\")\n",
    "#print(chaining)\n",
    "#print()\n",
    "\n",
    "print (\"Linear Probing: after removing 0:\")\n",
    "print(linear_probing)\n",
    "print()\n",
    "\n",
    "#print (\"Double Hashing: after removing 0:\")\n",
    "#print(double_hashing)"
   ]
  },
  {
   "cell_type": "code",
   "execution_count": null,
   "metadata": {},
   "outputs": [],
   "source": []
  }
 ],
 "metadata": {
  "kernelspec": {
   "display_name": "Python 3",
   "language": "python",
   "name": "python3"
  },
  "language_info": {
   "codemirror_mode": {
    "name": "ipython",
    "version": 3
   },
   "file_extension": ".py",
   "mimetype": "text/x-python",
   "name": "python",
   "nbconvert_exporter": "python",
   "pygments_lexer": "ipython3",
   "version": "3.8.5"
  }
 },
 "nbformat": 4,
 "nbformat_minor": 4
}
