{
 "cells": [
  {
   "cell_type": "code",
   "execution_count": 9,
   "metadata": {
    "ExecuteTime": {
     "end_time": "2022-08-19T04:08:17.869348Z",
     "start_time": "2022-08-19T04:08:17.855294Z"
    }
   },
   "outputs": [],
   "source": [
    "from linearprobinghashtable import LinearProbingHashTable\n",
    "import random"
   ]
  },
  {
   "cell_type": "code",
   "execution_count": 16,
   "metadata": {
    "ExecuteTime": {
     "end_time": "2022-08-19T04:11:47.444687Z",
     "start_time": "2022-08-19T04:11:47.437682Z"
    }
   },
   "outputs": [],
   "source": [
    "# Main program to test HashTable classes\n",
    "keys = [ 35, 0, 22, 94, 220, 110, 4 ]\n",
    "#keys = random.sample(range(10000),10000)"
   ]
  },
  {
   "cell_type": "code",
   "execution_count": 18,
   "metadata": {
    "ExecuteTime": {
     "end_time": "2022-08-19T04:27:27.987492Z",
     "start_time": "2022-08-19T04:27:27.970233Z"
    }
   },
   "outputs": [
    {
     "name": "stdout",
     "output_type": "stream",
     "text": [
      "Linear Probing: initial table:\n",
      "   --------\n",
      " 0:|  0   |\n",
      " 1:| 220  |\n",
      " 2:|  22  |\n",
      " 3:| 110  |\n",
      " 4:|  94  |\n",
      " 5:|  35  |\n",
      " 6:|  4   |\n",
      " 7:| E/S  |\n",
      " 8:| E/S  |\n",
      " 9:| E/S  |\n",
      "   --------\n",
      "\n",
      "=======================================\n",
      "Linear Probing: adding the same keys:\n",
      "   --------\n",
      " 0:|  0   |\n",
      " 1:| 220  |\n",
      " 2:|  22  |\n",
      " 3:| 110  |\n",
      " 4:|  94  |\n",
      " 5:|  35  |\n",
      " 6:|  4   |\n",
      " 7:|  35  |\n",
      " 8:|  0   |\n",
      " 9:|  22  |\n",
      "   --------\n",
      "\n"
     ]
    }
   ],
   "source": [
    "#chaining = ChainingHashTable()\n",
    "linear_probing = LinearProbingHashTable(initial_capacity=10)\n",
    "#double_hashing = DoubleHashingHashTable()\n",
    "for key in keys:\n",
    "   #chaining.insert(key)\n",
    "   linear_probing.insert(key)\n",
    "   #double_hashing.insert(key)\n",
    "\n",
    "# Show tables after inserts.\n",
    "#print (\"Chaining: initial table:\")\n",
    "#print (chaining)\n",
    "#print()\n",
    "\n",
    "print (\"Linear Probing: initial table:\")\n",
    "print (linear_probing)\n",
    "print()\n",
    "\n",
    "#print (\"Double Hashing: initial table:\")\n",
    "#print (double_hashing)\n",
    "#print()\n",
    "\n",
    "# Show tables after removing item 0\n",
    "print (\"=======================================\")\n",
    "#chaining.remove(0)\n",
    "#linear_probing.remove(0)\n",
    "for key in keys:\n",
    "   #chaining.insert(key)\n",
    "   linear_probing.insert(key)\n",
    "#double_hashing.remove(0)\n",
    "\n",
    "#print (\"Chaining: after removing 0:\")\n",
    "#print(chaining)\n",
    "#print()\n",
    "\n",
    "print (\"Linear Probing: adding the same keys:\")\n",
    "print(linear_probing)\n",
    "print()\n",
    "\n",
    "#print (\"Double Hashing: after removing 0:\")\n",
    "#print(double_hashing)"
   ]
  },
  {
   "cell_type": "code",
   "execution_count": 22,
   "metadata": {
    "ExecuteTime": {
     "end_time": "2022-08-19T07:14:57.685535Z",
     "start_time": "2022-08-19T07:14:57.681446Z"
    }
   },
   "outputs": [],
   "source": [
    "linear_probing2 = LinearProbingHashTable(20)"
   ]
  },
  {
   "cell_type": "code",
   "execution_count": 25,
   "metadata": {
    "ExecuteTime": {
     "end_time": "2022-08-19T07:15:41.933820Z",
     "start_time": "2022-08-19T07:15:41.929882Z"
    }
   },
   "outputs": [],
   "source": [
    "for key in keys:\n",
    "   #chaining.insert(key)\n",
    "   linear_probing2.insert(key)\n",
    "    \n",
    "for key in keys:\n",
    "   #chaining.insert(key)\n",
    "   linear_probing2.insert(key)"
   ]
  },
  {
   "cell_type": "code",
   "execution_count": 26,
   "metadata": {
    "ExecuteTime": {
     "end_time": "2022-08-19T07:15:42.760688Z",
     "start_time": "2022-08-19T07:15:42.755557Z"
    }
   },
   "outputs": [
    {
     "name": "stdout",
     "output_type": "stream",
     "text": [
      "   --------\n",
      " 0:|  0   |\n",
      " 1:| 220  |\n",
      " 2:|  22  |\n",
      " 3:|  0   |\n",
      " 4:|  4   |\n",
      " 5:|  22  |\n",
      " 6:| 220  |\n",
      " 7:|  4   |\n",
      " 8:| E/S  |\n",
      " 9:| E/S  |\n",
      "10:| 110  |\n",
      "11:| 110  |\n",
      "12:| E/S  |\n",
      "13:| E/S  |\n",
      "14:|  94  |\n",
      "15:|  35  |\n",
      "16:|  35  |\n",
      "17:|  94  |\n",
      "18:| E/S  |\n",
      "19:| E/S  |\n",
      "   --------\n"
     ]
    }
   ],
   "source": [
    "print(linear_probing2)"
   ]
  },
  {
   "cell_type": "code",
   "execution_count": null,
   "metadata": {},
   "outputs": [],
   "source": []
  }
 ],
 "metadata": {
  "kernelspec": {
   "display_name": "Python 3",
   "language": "python",
   "name": "python3"
  },
  "language_info": {
   "codemirror_mode": {
    "name": "ipython",
    "version": 3
   },
   "file_extension": ".py",
   "mimetype": "text/x-python",
   "name": "python",
   "nbconvert_exporter": "python",
   "pygments_lexer": "ipython3",
   "version": "3.8.5"
  }
 },
 "nbformat": 4,
 "nbformat_minor": 4
}
