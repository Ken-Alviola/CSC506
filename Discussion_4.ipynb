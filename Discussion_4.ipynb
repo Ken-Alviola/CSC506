{
 "cells": [
  {
   "cell_type": "code",
   "execution_count": 12,
   "metadata": {
    "ExecuteTime": {
     "end_time": "2022-08-10T06:55:04.152868Z",
     "start_time": "2022-08-10T06:55:04.146990Z"
    }
   },
   "outputs": [],
   "source": [
    "import queue\n",
    "Q = queue.Queue(maxsize=5)\n",
    "Stack1 = queue.LifoQueue(maxsize=5)\n",
    "Stack2 = queue.LifoQueue(maxsize=5)"
   ]
  },
  {
   "cell_type": "code",
   "execution_count": 11,
   "metadata": {
    "ExecuteTime": {
     "end_time": "2022-08-10T06:54:30.830289Z",
     "start_time": "2022-08-10T06:54:30.822334Z"
    }
   },
   "outputs": [],
   "source": [
    "car_list = ['P1 GTR', '765LT', 'GT3RS','GT2RS','TURBO S']"
   ]
  },
  {
   "cell_type": "code",
   "execution_count": 72,
   "metadata": {
    "ExecuteTime": {
     "end_time": "2022-08-10T07:54:07.720917Z",
     "start_time": "2022-08-10T07:54:07.716906Z"
    }
   },
   "outputs": [],
   "source": [
    "for car in car_list:\n",
    "    Stack1.put(car)"
   ]
  },
  {
   "cell_type": "code",
   "execution_count": 73,
   "metadata": {
    "ExecuteTime": {
     "end_time": "2022-08-10T07:54:09.116553Z",
     "start_time": "2022-08-10T07:54:09.110937Z"
    },
    "scrolled": false
   },
   "outputs": [
    {
     "name": "stdout",
     "output_type": "stream",
     "text": [
      "___Stack1___\n",
      "\n",
      "---Top---\n",
      "TURBO S\n",
      "GT2RS\n",
      "GT3RS\n",
      "765LT\n",
      "P1 GTR\n",
      "---Bottom---\n"
     ]
    }
   ],
   "source": [
    "print('___Stack1___\\n')\n",
    "print('---Top---')\n",
    "while Stack1.empty() != True:\n",
    "    print(Stack1.get())\n",
    "print('---Bottom---')"
   ]
  },
  {
   "cell_type": "code",
   "execution_count": 68,
   "metadata": {
    "ExecuteTime": {
     "end_time": "2022-08-10T07:44:33.815813Z",
     "start_time": "2022-08-10T07:44:33.811417Z"
    }
   },
   "outputs": [],
   "source": [
    "while Stack1.empty() != True:\n",
    "    Stack2.put(Stack1.get())"
   ]
  },
  {
   "cell_type": "code",
   "execution_count": 48,
   "metadata": {
    "ExecuteTime": {
     "end_time": "2022-08-10T07:22:41.579395Z",
     "start_time": "2022-08-10T07:22:41.571779Z"
    }
   },
   "outputs": [
    {
     "name": "stdout",
     "output_type": "stream",
     "text": [
      "___Stack2___\n",
      "\n",
      "---Top---\n",
      "P1 GTR\n",
      "765LT\n",
      "GT3RS\n",
      "GT2RS\n",
      "TURBO S\n",
      "---Bottom---\n"
     ]
    }
   ],
   "source": [
    "print('___Stack2___\\n')\n",
    "print('---Top---')\n",
    "while Stack2.empty() != True:\n",
    "    print(Stack2.get())\n",
    "print('---Bottom---')"
   ]
  },
  {
   "cell_type": "code",
   "execution_count": 69,
   "metadata": {
    "ExecuteTime": {
     "end_time": "2022-08-10T07:44:35.858282Z",
     "start_time": "2022-08-10T07:44:35.853597Z"
    }
   },
   "outputs": [],
   "source": [
    "while Stack2.empty() != True:\n",
    "    Q.put(Stack2.get())"
   ]
  },
  {
   "cell_type": "code",
   "execution_count": 70,
   "metadata": {
    "ExecuteTime": {
     "end_time": "2022-08-10T07:44:40.326434Z",
     "start_time": "2022-08-10T07:44:40.320578Z"
    }
   },
   "outputs": [
    {
     "name": "stdout",
     "output_type": "stream",
     "text": [
      "Items in Queue:\n",
      "\n",
      "1. P1 GTR\n",
      "2. 765LT\n",
      "3. GT3RS\n",
      "4. GT2RS\n",
      "5. TURBO S\n"
     ]
    }
   ],
   "source": [
    "count = 0\n",
    "print('Items in Queue:\\n')\n",
    "while Q.empty() != True:\n",
    "    count += 1\n",
    "    print(f'{count}. {Q.get()}')"
   ]
  },
  {
   "cell_type": "code",
   "execution_count": 71,
   "metadata": {
    "ExecuteTime": {
     "end_time": "2022-08-10T07:51:20.221033Z",
     "start_time": "2022-08-10T07:51:20.213389Z"
    }
   },
   "outputs": [],
   "source": [
    "import queue\n",
    "Q = queue.Queue(maxsize=5)\n",
    "Stack1 = queue.LifoQueue(maxsize=5)\n",
    "Stack2 = queue.LifoQueue(maxsize=5)\n",
    "\n",
    "car_list = ['P1 GTR', '765LT', 'GT3RS','GT2RS','TURBO S']\n",
    "\n",
    "#places items from the list into Stack1\n",
    "for car in car_list:\n",
    "    Stack1.put(car)\n",
    "\n",
    "#takes items from Stack1 and places in Stack2\n",
    "while Stack1.empty() != True:\n",
    "    Stack2.put(Stack1.get())\n",
    "\n",
    "#Puts items from Stack2 into the queue\n",
    "while Stack2.empty() != True:\n",
    "    Q.put(Stack2.get())"
   ]
  },
  {
   "cell_type": "code",
   "execution_count": null,
   "metadata": {},
   "outputs": [],
   "source": []
  }
 ],
 "metadata": {
  "kernelspec": {
   "display_name": "Python 3",
   "language": "python",
   "name": "python3"
  },
  "language_info": {
   "codemirror_mode": {
    "name": "ipython",
    "version": 3
   },
   "file_extension": ".py",
   "mimetype": "text/x-python",
   "name": "python",
   "nbconvert_exporter": "python",
   "pygments_lexer": "ipython3",
   "version": "3.8.5"
  }
 },
 "nbformat": 4,
 "nbformat_minor": 4
}
