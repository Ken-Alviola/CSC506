{
 "cells": [
  {
   "cell_type": "code",
   "execution_count": 94,
   "metadata": {
    "ExecuteTime": {
     "end_time": "2022-08-24T10:01:58.206465Z",
     "start_time": "2022-08-24T10:01:58.200466Z"
    }
   },
   "outputs": [],
   "source": [
    "class Node:\n",
    "    def __init__(self,x):\n",
    "        self.key = x\n",
    "        self.left = None\n",
    "        self.right = None\n",
    "        self.parent = None"
   ]
  },
  {
   "cell_type": "code",
   "execution_count": 274,
   "metadata": {
    "ExecuteTime": {
     "end_time": "2022-08-24T13:02:02.432636Z",
     "start_time": "2022-08-24T13:02:02.385024Z"
    }
   },
   "outputs": [],
   "source": [
    "class BinarySearchTree:\n",
    "    def __init__(self):\n",
    "        self.root = None\n",
    "\n",
    "    def search(self, key):\n",
    "        x = self.root\n",
    "        while x != None and x.key != key:\n",
    "            if key < x.key:\n",
    "                x = x.left\n",
    "            else:\n",
    "                x = x.right\n",
    "        return x\n",
    "\n",
    "    def insert(self, z):\n",
    "        x = self.root\n",
    "        y = None\n",
    "        while x != None:\n",
    "            y = x\n",
    "            if z.key < x.key:\n",
    "                x = x.left\n",
    "            else:\n",
    "                x = x.right\n",
    "        z.parent = y\n",
    "        if y == None:\n",
    "            self.root = z\n",
    "        else:\n",
    "            if z.key < y.key:\n",
    "                y.left = z\n",
    "            else:\n",
    "                y.right = z\n",
    "\n",
    "    def delete(self, z):\n",
    "        if z.left == None and z.right == None:\n",
    "            if z == self.root:\n",
    "                self.root = None\n",
    "            else:\n",
    "                if z == z.parent.left:\n",
    "                    z.parent.left = None\n",
    "                else:\n",
    "                    z.parent.right = None\n",
    "        elif z.left != None and z.right != None:\n",
    "            y = self.bstMinimum(z.right)\n",
    "            z.key = y.key\n",
    "            self.delete(y)\n",
    "        else:\n",
    "            if z.left != None:\n",
    "                z.left.parent = z.parent\n",
    "                if z == self.root:\n",
    "                    self.root = z.left\n",
    "                else:\n",
    "                    if z == z.parent.left:\n",
    "                        z.parent.left = z.left\n",
    "                    else:\n",
    "                        z.parent.right = z.left\n",
    "            else:\n",
    "                z.right.parent = z.parent\n",
    "                if z == self.root:\n",
    "                    self.root = z.right\n",
    "                else:\n",
    "                    if z == z.parent.left:\n",
    "                        z.parent.left = z.left\n",
    "                    else:\n",
    "                        z.parent.right = z.left\n",
    "\n",
    "    def bstMinimum(self, x):\n",
    "        while x.left != None:\n",
    "            x = x.left\n",
    "        return x\n",
    "    \n",
    "    def build_tree(self,ordered_list):\n",
    "        for num in ordered_list:\n",
    "            self.insert(Node(num))\n",
    "\n",
    "    def bstGetRoot(self):\n",
    "        return self.root\n",
    "    \n",
    "    \n",
    "    def print_tree(self, root, val=\"key\", left=\"left\", right=\"right\"):\n",
    "        def display(root, val=val, left=left, right=right):\n",
    "            \"\"\"Returns list of strings, width, height, and horizontal coordinate of the root.\"\"\"\n",
    "            # No child.\n",
    "            if getattr(root, right) is None and getattr(root, left) is None:\n",
    "                line = '%s' % getattr(root, val)\n",
    "                width = len(line)\n",
    "                height = 1\n",
    "                middle = width // 2\n",
    "                return [line], width, height, middle\n",
    "\n",
    "            # Only left child.\n",
    "            if getattr(root, right) is None:\n",
    "                lines, n, p, x = display(getattr(root, left))\n",
    "                s = '%s' % getattr(root, val)\n",
    "                u = len(s)\n",
    "                first_line = (x + 1) * ' ' + (n - x - 1) * '_' + s\n",
    "                second_line = x * ' ' + '/' + (n - x - 1 + u) * ' '\n",
    "                shifted_lines = [line + u * ' ' for line in lines]\n",
    "                return [first_line, second_line] + shifted_lines, n + u, p + 2, n + u // 2\n",
    "\n",
    "            # Only right child.\n",
    "            if getattr(root, left) is None:\n",
    "                lines, n, p, x = display(getattr(root, right))\n",
    "                s = '%s' % getattr(root, val)\n",
    "                u = len(s)\n",
    "                first_line = s + x * '_' + (n - x) * ' '\n",
    "                second_line = (u + x) * ' ' + '\\\\' + (n - x - 1) * ' '\n",
    "                shifted_lines = [u * ' ' + line for line in lines]\n",
    "                return [first_line, second_line] + shifted_lines, n + u, p + 2, u // 2\n",
    "\n",
    "            # Two children.\n",
    "            left, n, p, x = display(getattr(root, left))\n",
    "            right, m, q, y = display(getattr(root, right))\n",
    "            s = '%s' % getattr(root, val)\n",
    "            u = len(s)\n",
    "            first_line = (x + 1) * ' ' + (n - x - 1) * \\\n",
    "                '_' + s + y * '_' + (m - y) * ' '\n",
    "            second_line = x * ' ' + '/' + \\\n",
    "                (n - x - 1 + u + y) * ' ' + '\\\\' + (m - y - 1) * ' '\n",
    "            if p < q:\n",
    "                left += [n * ' '] * (q - p)\n",
    "            elif q < p:\n",
    "                right += [m * ' '] * (p - q)\n",
    "            zipped_lines = zip(left, right)\n",
    "            lines = [first_line, second_line] + \\\n",
    "                [a + u * ' ' + b for a, b in zipped_lines]\n",
    "            return lines, n + m + u, max(p, q) + 2, n + u // 2\n",
    "\n",
    "        lines, *_ = display(root, val, left, right)\n",
    "        for line in lines:\n",
    "            print(line)"
   ]
  },
  {
   "cell_type": "code",
   "execution_count": 128,
   "metadata": {
    "ExecuteTime": {
     "end_time": "2022-08-24T10:10:45.709072Z",
     "start_time": "2022-08-24T10:10:45.702229Z"
    }
   },
   "outputs": [],
   "source": [
    "tree = BinarySearchTree()\n",
    "tree.insert(Node(5))\n",
    "tree.insert(Node(3))\n",
    "tree.insert(Node(7))\n",
    "tree.insert(Node(2))\n",
    "tree.insert(Node(4))\n",
    "tree.insert(Node(9))\n",
    "\n",
    "#tree.BSTinOrder(tree.bstGetRoot())"
   ]
  },
  {
   "cell_type": "code",
   "execution_count": 129,
   "metadata": {
    "ExecuteTime": {
     "end_time": "2022-08-24T10:10:46.550834Z",
     "start_time": "2022-08-24T10:10:46.545539Z"
    }
   },
   "outputs": [
    {
     "name": "stdout",
     "output_type": "stream",
     "text": [
      "  _5  \n",
      " /  \\ \n",
      " 3  7 \n",
      "/ \\  \\\n",
      "2 4  9\n"
     ]
    }
   ],
   "source": [
    "tree.print_tree(tree.bstGetRoot())"
   ]
  },
  {
   "cell_type": "code",
   "execution_count": 130,
   "metadata": {
    "ExecuteTime": {
     "end_time": "2022-08-24T10:10:47.238570Z",
     "start_time": "2022-08-24T10:10:47.234489Z"
    }
   },
   "outputs": [],
   "source": [
    "tree.delete(tree.search(3))"
   ]
  },
  {
   "cell_type": "code",
   "execution_count": 131,
   "metadata": {
    "ExecuteTime": {
     "end_time": "2022-08-24T10:10:48.693608Z",
     "start_time": "2022-08-24T10:10:48.687919Z"
    }
   },
   "outputs": [
    {
     "name": "stdout",
     "output_type": "stream",
     "text": [
      "  5  \n",
      " / \\ \n",
      " 4 7 \n",
      "/   \\\n",
      "2   9\n"
     ]
    }
   ],
   "source": [
    "tree.print_tree(tree.bstGetRoot())"
   ]
  },
  {
   "cell_type": "code",
   "execution_count": 168,
   "metadata": {
    "ExecuteTime": {
     "end_time": "2022-08-24T12:06:47.599407Z",
     "start_time": "2022-08-24T12:06:47.585396Z"
    }
   },
   "outputs": [],
   "source": [
    "def create_list(tree, templist=[]):\n",
    "    \"\"\"\n",
    "    creates a list from a binary tree\n",
    "    \"\"\"\n",
    "    items = []\n",
    "    queue = [tree]\n",
    "\n",
    "    while queue:\n",
    "        copy = queue[:]\n",
    "        queue = []\n",
    "\n",
    "        for item in copy:\n",
    "            if item is None:\n",
    "                items.append(None)\n",
    "                queue.append(None)\n",
    "                queue.append(None)\n",
    "            else:\n",
    "                items.append(item.key)\n",
    "                queue.append(item.left)\n",
    "                queue.append(item.right)\n",
    "\n",
    "        if all((x is None for x in queue)):\n",
    "            break\n",
    "\n",
    "    return items"
   ]
  },
  {
   "cell_type": "code",
   "execution_count": 199,
   "metadata": {
    "ExecuteTime": {
     "end_time": "2022-08-24T12:42:05.293109Z",
     "start_time": "2022-08-24T12:42:05.286282Z"
    }
   },
   "outputs": [],
   "source": [
    "def balanced_tree(array_nums):\n",
    "    if not array_nums:\n",
    "        return None\n",
    "    root = len(array_nums)//2\n",
    "    node = Node(array_nums[root])\n",
    "    node.left = balanced_tree(array_nums[:root])\n",
    "    node.right = balanced_tree(array_nums[root+1:])\n",
    "    return node"
   ]
  },
  {
   "cell_type": "code",
   "execution_count": 295,
   "metadata": {
    "ExecuteTime": {
     "end_time": "2022-08-24T13:15:01.182928Z",
     "start_time": "2022-08-24T13:15:01.177892Z"
    }
   },
   "outputs": [],
   "source": [
    "test = BinarySearchTree()\n",
    "#num_list = [1, 2, 3, 4, 5, 6, 7]\n",
    "num_list = sorted([5, 3, 7, 2, 4, 9, 10])"
   ]
  },
  {
   "cell_type": "code",
   "execution_count": 296,
   "metadata": {
    "ExecuteTime": {
     "end_time": "2022-08-24T13:15:06.167411Z",
     "start_time": "2022-08-24T13:15:06.162760Z"
    }
   },
   "outputs": [],
   "source": [
    "tree = balanced_tree(num_list)\n",
    "ordered_list = create_list(tree)"
   ]
  },
  {
   "cell_type": "code",
   "execution_count": 301,
   "metadata": {
    "ExecuteTime": {
     "end_time": "2022-08-25T05:00:03.550179Z",
     "start_time": "2022-08-25T05:00:03.543952Z"
    }
   },
   "outputs": [],
   "source": [
    "def initialize_tree(num_list):\n",
    "    num_list = sorted(num_list)\n",
    "    tree = BinarySearchTree()\n",
    "    btree = balanced_tree(num_list)\n",
    "    ordered_list = create_list(btree)\n",
    "    return tree, ordered_list"
   ]
  },
  {
   "cell_type": "code",
   "execution_count": 302,
   "metadata": {
    "ExecuteTime": {
     "end_time": "2022-08-25T05:00:50.068726Z",
     "start_time": "2022-08-25T05:00:50.063434Z"
    }
   },
   "outputs": [],
   "source": [
    "test2, list2 = initialize_tree([5, 3, 7, 2, 4, 9, 10])"
   ]
  },
  {
   "cell_type": "code",
   "execution_count": 299,
   "metadata": {
    "ExecuteTime": {
     "end_time": "2022-08-24T13:15:57.208618Z",
     "start_time": "2022-08-24T13:15:57.204654Z"
    }
   },
   "outputs": [],
   "source": [
    "for num in ordered_list:\n",
    "    test.insert(Node(num))"
   ]
  },
  {
   "cell_type": "code",
   "execution_count": 286,
   "metadata": {
    "ExecuteTime": {
     "end_time": "2022-08-24T13:13:40.471406Z",
     "start_time": "2022-08-24T13:13:40.466989Z"
    }
   },
   "outputs": [],
   "source": [
    "def build_tree(self,ordered_list):\n",
    "    for num in ordered_list:\n",
    "        self.insert(Node(num))"
   ]
  },
  {
   "cell_type": "code",
   "execution_count": 297,
   "metadata": {
    "ExecuteTime": {
     "end_time": "2022-08-24T13:15:14.075783Z",
     "start_time": "2022-08-24T13:15:14.072170Z"
    }
   },
   "outputs": [],
   "source": [
    "test.build_tree(ordered_list)"
   ]
  },
  {
   "cell_type": "code",
   "execution_count": 298,
   "metadata": {
    "ExecuteTime": {
     "end_time": "2022-08-24T13:15:16.079786Z",
     "start_time": "2022-08-24T13:15:16.056324Z"
    }
   },
   "outputs": [
    {
     "name": "stdout",
     "output_type": "stream",
     "text": [
      "  _5_   \n",
      " /   \\  \n",
      " 3   9_ \n",
      "/ \\ /  \\\n",
      "2 4 7 10\n"
     ]
    }
   ],
   "source": [
    "test.print_tree(test.bstGetRoot())"
   ]
  },
  {
   "cell_type": "code",
   "execution_count": 268,
   "metadata": {
    "ExecuteTime": {
     "end_time": "2022-08-24T12:53:50.659571Z",
     "start_time": "2022-08-24T12:53:50.655877Z"
    }
   },
   "outputs": [],
   "source": [
    "test.delete(test.search(2))"
   ]
  },
  {
   "cell_type": "code",
   "execution_count": 266,
   "metadata": {
    "ExecuteTime": {
     "end_time": "2022-08-24T12:53:31.996960Z",
     "start_time": "2022-08-24T12:53:31.992553Z"
    }
   },
   "outputs": [],
   "source": [
    "test.insert(Node(8))"
   ]
  },
  {
   "cell_type": "code",
   "execution_count": 303,
   "metadata": {
    "ExecuteTime": {
     "end_time": "2022-08-25T05:01:26.858853Z",
     "start_time": "2022-08-25T05:01:26.854874Z"
    }
   },
   "outputs": [],
   "source": [
    "test2.build_tree(list2)"
   ]
  },
  {
   "cell_type": "code",
   "execution_count": 304,
   "metadata": {
    "ExecuteTime": {
     "end_time": "2022-08-25T05:01:45.261298Z",
     "start_time": "2022-08-25T05:01:45.255475Z"
    }
   },
   "outputs": [
    {
     "name": "stdout",
     "output_type": "stream",
     "text": [
      "  _5_   \n",
      " /   \\  \n",
      " 3   9_ \n",
      "/ \\ /  \\\n",
      "2 4 7 10\n"
     ]
    }
   ],
   "source": [
    "test2.print_tree(test2.bstGetRoot())"
   ]
  },
  {
   "cell_type": "code",
   "execution_count": null,
   "metadata": {},
   "outputs": [],
   "source": []
  }
 ],
 "metadata": {
  "kernelspec": {
   "display_name": "Python 3",
   "language": "python",
   "name": "python3"
  },
  "language_info": {
   "codemirror_mode": {
    "name": "ipython",
    "version": 3
   },
   "file_extension": ".py",
   "mimetype": "text/x-python",
   "name": "python",
   "nbconvert_exporter": "python",
   "pygments_lexer": "ipython3",
   "version": "3.8.5"
  }
 },
 "nbformat": 4,
 "nbformat_minor": 4
}
