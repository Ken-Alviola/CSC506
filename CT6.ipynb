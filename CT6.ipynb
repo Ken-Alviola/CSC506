{
 "cells": [
  {
   "cell_type": "code",
   "execution_count": 51,
   "metadata": {
    "ExecuteTime": {
     "end_time": "2022-08-24T08:19:56.412797Z",
     "start_time": "2022-08-24T08:19:56.408053Z"
    }
   },
   "outputs": [],
   "source": [
    "class Node:\n",
    "    def __init__(self,x):\n",
    "        self.key = x\n",
    "        self.left = None\n",
    "        self.right = None\n",
    "        self.p = None"
   ]
  },
  {
   "cell_type": "code",
   "execution_count": 52,
   "metadata": {
    "ExecuteTime": {
     "end_time": "2022-08-24T08:19:57.432776Z",
     "start_time": "2022-08-24T08:19:57.398042Z"
    }
   },
   "outputs": [],
   "source": [
    "class BST:\n",
    "    def __init__(self):\n",
    "        self.root = None\n",
    "\n",
    "    def BSTsearch(self,k):\n",
    "\n",
    "        x = self.root\n",
    "        while x!=None and x.key!=k:\n",
    "            if k<x.key:\n",
    "                x=x.left\n",
    "            else:\n",
    "                x=x.right\n",
    "        return x\n",
    "\n",
    "    def BSTinsert(self, z):\n",
    "\n",
    "        x = self.root\n",
    "        y = None\n",
    "        while x != None:\n",
    "            y=x\n",
    "            if z.key<x.key:\n",
    "                x=x.left\n",
    "            else:\n",
    "                x=x.right\n",
    "        z.p=y\n",
    "        if y==None:\n",
    "            self.root=z\n",
    "        else:\n",
    "            if z.key<y.key:\n",
    "                y.left=z\n",
    "            else:\n",
    "                y.right=z\n",
    "\n",
    "    def bstDelete(self, z):\n",
    "\n",
    "        if z.left == None and z.right == None:\n",
    "            if z == self.root:\n",
    "                self.root = None\n",
    "            else:\n",
    "                if z == z.p.left:\n",
    "                    z.p.left = None\n",
    "                else:\n",
    "                    z.p.right = None\n",
    "        elif z.left != None and z.right != None:\n",
    "            y = self.bstMinimum(z.right)\n",
    "            z.key = y.key\n",
    "            self.bstDelete(y)\n",
    "        else:\n",
    "            if z.left != None:\n",
    "                z.left.p=z.p\n",
    "                if z==self.root:\n",
    "                    self.root=z.left\n",
    "                else:\n",
    "                    if z==z.p.left:\n",
    "                        z.p.left=z.left\n",
    "                    else:\n",
    "                        z.p.right=z.left\n",
    "            else:\n",
    "                z.right.p=z.p\n",
    "                if z==self.root:\n",
    "                    self.root=z.right\n",
    "                else:\n",
    "                    if z==z.p.left:\n",
    "                        z.p.left=z.left\n",
    "                    else:\n",
    "                        z.p.right=z.left\n",
    "\n",
    "    '''def bstMinimum(self, x):\n",
    "\n",
    "        while x.left != None:\n",
    "            x = x.left\n",
    "        return x\n",
    "\n",
    "    def BSTinOrder(self, x):\n",
    "\n",
    "        if x == None: return\n",
    "        self.BSTinOrder(x.left)\n",
    "        print(x.key)\n",
    "        self.BSTinOrder(x.right)'''\n",
    "\n",
    "    def bstGetRoot(self):\n",
    "        return self.root\n",
    "\n",
    "    def print_tree(self, root, val=\"val\", left=\"left\", right=\"right\"):\n",
    "        def display(root, val=val, left=left, right=right):\n",
    "            \"\"\"Returns list of strings, width, height, and horizontal coordinate of the root.\"\"\"\n",
    "            # No child.\n",
    "            if getattr(root, right) is None and getattr(root, left) is None:\n",
    "                line = '%s' % getattr(root, val)\n",
    "                width = len(line)\n",
    "                height = 1\n",
    "                middle = width // 2\n",
    "                return [line], width, height, middle\n",
    "\n",
    "            # Only left child.\n",
    "            if getattr(root, right) is None:\n",
    "                lines, n, p, x = display(getattr(root, left))\n",
    "                s = '%s' % getattr(root, val)\n",
    "                u = len(s)\n",
    "                first_line = (x + 1) * ' ' + (n - x - 1) * '_' + s\n",
    "                second_line = x * ' ' + '/' + (n - x - 1 + u) * ' '\n",
    "                shifted_lines = [line + u * ' ' for line in lines]\n",
    "                return [first_line, second_line] + shifted_lines, n + u, p + 2, n + u // 2\n",
    "\n",
    "            # Only right child.\n",
    "            if getattr(root, left) is None:\n",
    "                lines, n, p, x = display(getattr(root, right))\n",
    "                s = '%s' % getattr(root, val)\n",
    "                u = len(s)\n",
    "                first_line = s + x * '_' + (n - x) * ' '\n",
    "                second_line = (u + x) * ' ' + '\\\\' + (n - x - 1) * ' '\n",
    "                shifted_lines = [u * ' ' + line for line in lines]\n",
    "                return [first_line, second_line] + shifted_lines, n + u, p + 2, u // 2\n",
    "\n",
    "            # Two children.\n",
    "            left, n, p, x = display(getattr(root, left))\n",
    "            right, m, q, y = display(getattr(root, right))\n",
    "            s = '%s' % getattr(root, val)\n",
    "            u = len(s)\n",
    "            first_line = (x + 1) * ' ' + (n - x - 1) * '_' + s + y * '_' + (m - y) * ' '\n",
    "            second_line = x * ' ' + '/' + (n - x - 1 + u + y) * ' ' + '\\\\' + (m - y - 1) * ' '\n",
    "            if p < q:\n",
    "                left += [n * ' '] * (q - p)\n",
    "            elif q < p:\n",
    "                right += [m * ' '] * (p - q)\n",
    "            zipped_lines = zip(left, right)\n",
    "            lines = [first_line, second_line] + [a + u * ' ' + b for a, b in zipped_lines]\n",
    "            return lines, n + m + u, max(p, q) + 2, n + u // 2\n",
    "\n",
    "        lines, *_ = display(root, val, left, right)\n",
    "        for line in lines:\n",
    "            print(line)"
   ]
  },
  {
   "cell_type": "code",
   "execution_count": 44,
   "metadata": {
    "ExecuteTime": {
     "end_time": "2022-08-24T08:12:43.299951Z",
     "start_time": "2022-08-24T08:12:43.294457Z"
    }
   },
   "outputs": [],
   "source": [
    "tree = BST()\n",
    "tree.BSTinsert(Node(5))\n",
    "tree.BSTinsert(Node(3))\n",
    "tree.BSTinsert(Node(7))\n",
    "tree.BSTinsert(Node(2))\n",
    "tree.BSTinsert(Node(4))\n",
    "tree.BSTinsert(Node(9))\n",
    "\n",
    "#tree.BSTinOrder(tree.bstGetRoot())"
   ]
  },
  {
   "cell_type": "code",
   "execution_count": 45,
   "metadata": {
    "ExecuteTime": {
     "end_time": "2022-08-24T08:12:45.002810Z",
     "start_time": "2022-08-24T08:12:44.997341Z"
    }
   },
   "outputs": [
    {
     "name": "stdout",
     "output_type": "stream",
     "text": [
      "  _5  \n",
      " /  \\ \n",
      " 3  7 \n",
      "/ \\  \\\n",
      "2 4  9\n"
     ]
    }
   ],
   "source": [
    "tree.print_tree(tree.bstGetRoot(), val=\"key\")"
   ]
  },
  {
   "cell_type": "code",
   "execution_count": 16,
   "metadata": {
    "ExecuteTime": {
     "end_time": "2022-08-24T07:40:06.866722Z",
     "start_time": "2022-08-24T07:40:06.858792Z"
    }
   },
   "outputs": [],
   "source": [
    " def build_balanced_tree(array_nums):\n",
    "        if not array_nums:\n",
    "            return None\n",
    "        root = len(array_nums)//2\n",
    "        node = Node(array_nums[root])\n",
    "        node.left = build_balanced_tree(array_nums[:root])\n",
    "        node.right = build_balanced_tree(array_nums[root+1:])\n",
    "        return node"
   ]
  },
  {
   "cell_type": "code",
   "execution_count": 19,
   "metadata": {
    "ExecuteTime": {
     "end_time": "2022-08-24T07:41:11.642656Z",
     "start_time": "2022-08-24T07:41:11.635154Z"
    }
   },
   "outputs": [],
   "source": [
    "test = build_balanced_tree([1, 2, 3, 4, 5, 6, 7])"
   ]
  },
  {
   "cell_type": "code",
   "execution_count": null,
   "metadata": {},
   "outputs": [],
   "source": []
  }
 ],
 "metadata": {
  "kernelspec": {
   "display_name": "Python 3",
   "language": "python",
   "name": "python3"
  },
  "language_info": {
   "codemirror_mode": {
    "name": "ipython",
    "version": 3
   },
   "file_extension": ".py",
   "mimetype": "text/x-python",
   "name": "python",
   "nbconvert_exporter": "python",
   "pygments_lexer": "ipython3",
   "version": "3.8.5"
  }
 },
 "nbformat": 4,
 "nbformat_minor": 4
}
